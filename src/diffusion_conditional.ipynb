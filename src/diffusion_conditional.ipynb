{
 "cells": [
  {
   "cell_type": "code",
   "execution_count": null,
   "metadata": {},
   "outputs": [],
   "source": [
    "import pytorch_lightning as pl\n",
    "from lircst_ana_dataset import LircstAnaDataset\n",
    "from encoded_conditional_diffusion import ECDiffusion\n",
    "from Diffusion.EMA import EMA\n",
    "\n",
    "dataset = LircstAnaDataset('/home/samnub/dev/lircst-ana/data/')\n",
    "\n",
    "model = ECDiffusion(\n",
    "    train_dataset=dataset,\n",
    "    lr=1e-4,\n",
    "    batch_size=16,\n",
    ")\n",
    "\n",
    "trainer = pl.Trainer(\n",
    "    max_steps=2e5,\n",
    "    callbacks=[EMA(0.9999)],\n",
    "    accelerator='gpu',\n",
    "    devices=[0],\n",
    ")\n",
    "\n",
    "trainer.fit(model)"
   ]
  },
  {
   "cell_type": "code",
   "execution_count": null,
   "metadata": {},
   "outputs": [],
   "source": []
  }
 ],
 "metadata": {
  "kernelspec": {
   "display_name": "lircst-diffusion",
   "language": "python",
   "name": "python3"
  },
  "language_info": {
   "codemirror_mode": {
    "name": "ipython",
    "version": 3
   },
   "file_extension": ".py",
   "mimetype": "text/x-python",
   "name": "python",
   "nbconvert_exporter": "python",
   "pygments_lexer": "ipython3",
   "version": "3.13.2"
  }
 },
 "nbformat": 4,
 "nbformat_minor": 2
}
