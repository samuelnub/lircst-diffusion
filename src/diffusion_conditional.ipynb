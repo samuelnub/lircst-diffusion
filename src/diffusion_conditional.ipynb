{
 "cells": [
  {
   "cell_type": "code",
   "execution_count": 1,
   "metadata": {},
   "outputs": [
    {
     "name": "stderr",
     "output_type": "stream",
     "text": [
      "/home/samnub/anaconda3/envs/lircst-diffusion/lib/python3.13/site-packages/tqdm/auto.py:21: TqdmWarning: IProgress not found. Please update jupyter and ipywidgets. See https://ipywidgets.readthedocs.io/en/stable/user_install.html\n",
      "  from .autonotebook import tqdm as notebook_tqdm\n"
     ]
    },
    {
     "name": "stdout",
     "output_type": "stream",
     "text": [
      "Is Time embed used ?  True\n"
     ]
    },
    {
     "name": "stderr",
     "output_type": "stream",
     "text": [
      "/home/samnub/dev/lircst-diffusion/src/Diffusion/EMA.py:58: UserWarning: EMA has better performance when Apex is installed: https://github.com/NVIDIA/apex#installation.\n",
      "  rank_zero_warn(\n",
      "You are using the plain ModelCheckpoint callback. Consider using LitModelCheckpoint which with seamless uploading to Model registry.\n",
      "GPU available: True (cuda), used: True\n",
      "TPU available: False, using: 0 TPU cores\n",
      "HPU available: False, using: 0 HPUs\n",
      "You are using a CUDA device ('NVIDIA RTX A4000') that has Tensor Cores. To properly utilize them, you should set `torch.set_float32_matmul_precision('medium' | 'high')` which will trade-off precision for performance. For more details, read https://pytorch.org/docs/stable/generated/torch.set_float32_matmul_precision.html#torch.set_float32_matmul_precision\n",
      "LOCAL_RANK: 0 - CUDA_VISIBLE_DEVICES: [0]\n",
      "\n",
      "  | Name  | Type                        | Params | Mode \n",
      "--------------------------------------------------------------\n",
      "0 | model | EncodedConditionalDiffusion | 56.7 M | train\n",
      "--------------------------------------------------------------\n",
      "56.7 M    Trainable params\n",
      "0         Non-trainable params\n",
      "56.7 M    Total params\n",
      "226.827   Total estimated model params size (MB)\n",
      "270       Modules in train mode\n",
      "0         Modules in eval mode\n"
     ]
    },
    {
     "name": "stdout",
     "output_type": "stream",
     "text": [
      "Epoch 858:  37%|███▋      | 86/233 [00:49<01:24,  1.74it/s, v_num=13, train_loss=0.000294] "
     ]
    },
    {
     "name": "stderr",
     "output_type": "stream",
     "text": [
      "`Trainer.fit` stopped: `max_steps=200000.0` reached.\n"
     ]
    },
    {
     "name": "stdout",
     "output_type": "stream",
     "text": [
      "Epoch 858:  37%|███▋      | 86/233 [00:51<01:28,  1.66it/s, v_num=13, train_loss=0.000294]\n"
     ]
    }
   ],
   "source": [
    "import pytorch_lightning as pl\n",
    "from lircst_ana_dataset import LircstAnaDataset\n",
    "from encoded_conditional_diffusion import ECDiffusion\n",
    "from Diffusion.EMA import EMA\n",
    "\n",
    "dataset = LircstAnaDataset('/home/samnub/dev/lircst-ana/data/')\n",
    "\n",
    "model = ECDiffusion(\n",
    "    train_dataset=dataset,\n",
    "    lr=1e-4,\n",
    "    batch_size=16,\n",
    ")\n",
    "\n",
    "trainer = pl.Trainer(\n",
    "    max_steps=2e5,\n",
    "    callbacks=[EMA(0.9999)],\n",
    "    accelerator='gpu',\n",
    "    devices=[0],\n",
    ")\n",
    "\n",
    "trainer.fit(model)"
   ]
  },
  {
   "cell_type": "code",
   "execution_count": null,
   "metadata": {},
   "outputs": [
    {
     "name": "stdout",
     "output_type": "stream",
     "text": [
      "Is Time embed used ?  True\n"
     ]
    },
    {
     "name": "stderr",
     "output_type": "stream",
     "text": [
      "diffusion sampling: 100%|██████████| 1000/1000 [00:49<00:00, 20.32it/s]"
     ]
    },
    {
     "name": "stdout",
     "output_type": "stream",
     "text": [
      "torch.Size([4, 2, 128, 128])\n"
     ]
    },
    {
     "name": "stderr",
     "output_type": "stream",
     "text": [
      "\n"
     ]
    }
   ],
   "source": [
    "# Use the model\n",
    "\n",
    "import torch\n",
    "import matplotlib\n",
    "import matplotlib.pyplot as plt\n",
    "import numpy as np\n",
    "from encoded_conditional_diffusion import ECDiffusion\n",
    "from lircst_ana_dataset import LircstAnaDataset\n",
    "from Diffusion.DenoisingDiffusionProcess.samplers import DDIM_Sampler\n",
    "from Diffusion.DenoisingDiffusionProcess.samplers import DDPM_Sampler\n",
    "\n",
    "\n",
    "dataset = LircstAnaDataset('/home/samnub/dev/lircst-ana/data/')\n",
    "\n",
    "\n",
    "trained_model = ECDiffusion.load_from_checkpoint(\"/home/samnub/dev/lircst-diffusion/src/lightning_logs/version_13/checkpoints/epoch=858-step=200000.ckpt\",\n",
    "                                                 train_dataset = dataset,\n",
    "                                                 lr=1e-4,\n",
    "                                                 batch_size=16,)\n",
    "\n",
    "trained_model.cuda()\n",
    "trained_model.eval()\n",
    "\n",
    "phan, sino, _ = dataset[0]\n",
    "sino = torch.from_numpy(sino)\n",
    "batch_input = torch.stack(4*[sino]).cuda()\n",
    "\n",
    "# Seems like the inference-time DDIM sampler that they provided is bugged\n",
    "ddpm_sampler=DDPM_Sampler(trained_model.model.train_timesteps)\n",
    "trained_model.model.diffusion_process.sampler = ddpm_sampler\n",
    "\n",
    "out, encoded_condition = trained_model(batch_input, sampler=ddpm_sampler, verbose=True)\n",
    "\n",
    "print(out.shape)\n"
   ]
  },
  {
   "cell_type": "code",
   "execution_count": 12,
   "metadata": {},
   "outputs": [
    {
     "data": {
      "text/plain": [
       "(np.float64(-0.5), np.float64(127.5), np.float64(127.5), np.float64(-0.5))"
      ]
     },
     "execution_count": 12,
     "metadata": {},
     "output_type": "execute_result"
    },
    {
     "data": {
      "image/png": "[encoded data removed]",
      "text/plain": [
       "<Figure size 640x480 with 15 Axes>"
      ]
     },
     "metadata": {},
     "output_type": "display_data"
    }
   ],
   "source": [
    "\n",
    "plt.subplot(1,3+len(out)*2,1)\n",
    "plt.imshow(torch.sum(sino, axis=2))\n",
    "plt.title('Input')\n",
    "plt.axis('off')\n",
    "for idx in range(out.shape[0]*3):\n",
    "    if idx % 3 == 1:\n",
    "        continue\n",
    "    if idx % 3 == 2:\n",
    "        continue\n",
    "    plt.subplot(1,3+len(out)*3,idx+2)\n",
    "    plt.imshow(torch.sum(encoded_condition[idx//3].detach().cpu(), axis=0))\n",
    "    plt.axis('off')\n",
    "    plt.subplot(1,3+len(out)*3,idx+3)\n",
    "    plt.imshow(out[idx//3].detach().cpu()[0])\n",
    "    plt.axis('off')\n",
    "    plt.subplot(1,3+len(out)*3,idx+4)\n",
    "    plt.imshow(out[idx//3].detach().cpu()[1])\n",
    "    plt.axis('off')\n",
    "plt.subplot(1,3+len(out)*3,2+len(out)*3)\n",
    "plt.imshow(phan[0])\n",
    "plt.title('GT Scat Coeff')\n",
    "plt.axis('off')\n",
    "plt.subplot(1,3+len(out)*3,3+len(out)*3)\n",
    "plt.imshow(phan[1])\n",
    "plt.title('GT Atten Coeff')\n",
    "plt.axis('off')"
   ]
  }
 ],
 "metadata": {
  "kernelspec": {
   "display_name": "lircst-diffusion",
   "language": "python",
   "name": "python3"
  },
  "language_info": {
   "codemirror_mode": {
    "name": "ipython",
    "version": 3
   },
   "file_extension": ".py",
   "mimetype": "text/x-python",
   "name": "python",
   "nbconvert_exporter": "python",
   "pygments_lexer": "ipython3",
   "version": "3.13.2"
  }
 },
 "nbformat": 4,
 "nbformat_minor": 2
}
