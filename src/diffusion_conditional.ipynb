{
 "cells": [
  {
   "cell_type": "code",
   "execution_count": 3,
   "metadata": {},
   "outputs": [],
   "source": [
    "from torch.utils.data import *\n",
    "from lircst_ana_dataset import LircstAnaDataset\n",
    "from torch import Generator\n",
    "\n",
    "dataset = LircstAnaDataset('/home/samnub/dev/lircst-ana/data/')\n",
    "\n",
    "rand_generator = Generator().manual_seed(42) # The meaning of life, the universe and everything\n",
    "\n",
    "dataset_train, dataset_valid, dataset_test = random_split(dataset, [0.8, 0.1, 0.1], generator=rand_generator)"
   ]
  },
  {
   "cell_type": "code",
   "execution_count": 4,
   "metadata": {},
   "outputs": [
    {
     "name": "stderr",
     "output_type": "stream",
     "text": [
      "/home/samnub/anaconda3/envs/lircst-diffusion/lib/python3.13/site-packages/tqdm/auto.py:21: TqdmWarning: IProgress not found. Please update jupyter and ipywidgets. See https://ipywidgets.readthedocs.io/en/stable/user_install.html\n",
      "  from .autonotebook import tqdm as notebook_tqdm\n"
     ]
    },
    {
     "name": "stdout",
     "output_type": "stream",
     "text": [
      "Is Time embed used ?  True\n",
      "Is Time embed used ?  True\n"
     ]
    },
    {
     "name": "stderr",
     "output_type": "stream",
     "text": [
      "/home/samnub/dev/lircst-diffusion/src/Diffusion/EMA.py:58: UserWarning: EMA has better performance when Apex is installed: https://github.com/NVIDIA/apex#installation.\n",
      "  rank_zero_warn(\n",
      "You are using the plain ModelCheckpoint callback. Consider using LitModelCheckpoint which with seamless uploading to Model registry.\n",
      "GPU available: True (cuda), used: True\n",
      "TPU available: False, using: 0 TPU cores\n",
      "HPU available: False, using: 0 HPUs\n"
     ]
    }
   ],
   "source": [
    "import pytorch_lightning as pl\n",
    "from lircst_ana_dataset import LircstAnaDataset\n",
    "from encoded_conditional_diffusion import ECDiffusion\n",
    "from Diffusion.EMA import EMA\n",
    "from Diffusion.DenoisingDiffusionProcess.samplers import DDIM_Sampler\n",
    "from Diffusion.DenoisingDiffusionProcess.samplers import DDPM_Sampler\n",
    "\n",
    "\n",
    "model = ECDiffusion(\n",
    "    train_dataset=dataset_train,\n",
    "    valid_dataset=dataset_valid,\n",
    "    test_dataset=dataset_test,\n",
    "    lr=1e-4,\n",
    "    batch_size=16,\n",
    ")\n",
    "\n",
    "# Load the model from a checkpoint\n",
    "# Comment out the line below if you want to start training from scratch\n",
    "model = ECDiffusion.load_from_checkpoint(\"/home/samnub/dev/lircst-diffusion/src/lightning_logs/version_16/checkpoints/epoch=172-step=200000.ckpt\",\n",
    "                                         train_dataset=dataset_train,\n",
    "                                         valid_dataset=dataset_valid,\n",
    "                                         test_dataset=dataset_test,\n",
    "                                         lr=1e-4,\n",
    "                                         batch_size=16,)\n",
    "\n",
    "\n",
    "# Seems like the inference-time DDIM sampler that they provided is bugged\n",
    "ddpm_sampler=DDPM_Sampler(model.model.train_timesteps)\n",
    "model.model.diffusion_process.sampler = ddpm_sampler\n",
    "\n",
    "\n",
    "trainer = pl.Trainer(\n",
    "    max_steps=2e5,\n",
    "    callbacks=[EMA(0.9999)],\n",
    "    accelerator='gpu',\n",
    "    devices=[0],\n",
    "    check_val_every_n_epoch=10,\n",
    ")"
   ]
  },
  {
   "cell_type": "code",
   "execution_count": null,
   "metadata": {},
   "outputs": [],
   "source": [
    "# Train an untrained model\n",
    "\n",
    "trainer.fit(model)"
   ]
  },
  {
   "cell_type": "code",
   "execution_count": null,
   "metadata": {},
   "outputs": [
    {
     "name": "stderr",
     "output_type": "stream",
     "text": [
      "You are using a CUDA device ('NVIDIA RTX A4000') that has Tensor Cores. To properly utilize them, you should set `torch.set_float32_matmul_precision('medium' | 'high')` which will trade-off precision for performance. For more details, read https://pytorch.org/docs/stable/generated/torch.set_float32_matmul_precision.html#torch.set_float32_matmul_precision\n",
      "LOCAL_RANK: 0 - CUDA_VISIBLE_DEVICES: [0]\n"
     ]
    },
    {
     "name": "stdout",
     "output_type": "stream",
     "text": [
      "Testing DataLoader 0:   0%|          | 0/116 [00:00<?, ?it/s]Batch 0: PSNR: 6.0003, SSIM: 0.2022\n",
      "Testing DataLoader 0:   1%|          | 1/116 [04:53<9:22:11,  0.00it/s]"
     ]
    },
    {
     "name": "stderr",
     "output_type": "stream",
     "text": [
      "/home/samnub/anaconda3/envs/lircst-diffusion/lib/python3.13/site-packages/pytorch_lightning/utilities/data.py:79: Trying to infer the `batch_size` from an ambiguous collection. The batch size we found is 16. To avoid any miscalculations, use `self.log(..., batch_size=batch_size)`.\n"
     ]
    }
   ],
   "source": [
    "# Evaluate the model\n",
    "\n",
    "trainer.test(model)"
   ]
  }
 ],
 "metadata": {
  "kernelspec": {
   "display_name": "lircst-diffusion",
   "language": "python",
   "name": "python3"
  },
  "language_info": {
   "codemirror_mode": {
    "name": "ipython",
    "version": 3
   },
   "file_extension": ".py",
   "mimetype": "text/x-python",
   "name": "python",
   "nbconvert_exporter": "python",
   "pygments_lexer": "ipython3",
   "version": "3.13.2"
  }
 },
 "nbformat": 4,
 "nbformat_minor": 2
}
