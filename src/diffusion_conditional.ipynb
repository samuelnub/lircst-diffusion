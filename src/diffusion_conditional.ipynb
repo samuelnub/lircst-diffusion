{
 "cells": [
  {
   "cell_type": "code",
   "execution_count": null,
   "metadata": {},
   "outputs": [],
   "source": [
    "from Diffusion.PixelDiffusion import PixelDiffusionConditional\n",
    "from lircst_ana_dataset import LircstAnaDataset\n",
    "\n",
    "dataset = LircstAnaDataset('/home/samnub/dev/lircst-ana/data/')\n",
    "\n",
    "model = PixelDiffusionConditional(dataset,\n",
    "                                  lr=1e-4,\n",
    "                                  batch_size=16)"
   ]
  }
 ],
 "metadata": {
  "language_info": {
   "name": "python"
  }
 },
 "nbformat": 4,
 "nbformat_minor": 2
}
