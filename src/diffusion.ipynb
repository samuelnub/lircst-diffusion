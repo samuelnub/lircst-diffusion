{
 "cells": [
  {
   "cell_type": "code",
   "execution_count": 2,
   "id": "b613606a",
   "metadata": {},
   "outputs": [
    {
     "name": "stderr",
     "output_type": "stream",
     "text": [
      "\u001b[34m\u001b[1mwandb\u001b[0m: \u001b[33mWARNING\u001b[0m If you're specifying your api key in code, ensure this code is not shared publicly.\n",
      "\u001b[34m\u001b[1mwandb\u001b[0m: \u001b[33mWARNING\u001b[0m Consider setting the WANDB_API_KEY environment variable, or running `wandb login` from the command line.\n",
      "\u001b[34m\u001b[1mwandb\u001b[0m: Appending key for api.wandb.ai to your netrc file: /home/samnub/.netrc\n"
     ]
    },
    {
     "data": {
      "text/plain": [
       "True"
      ]
     },
     "execution_count": 2,
     "metadata": {},
     "output_type": "execute_result"
    }
   ],
   "source": [
    "import keys\n",
    "import wandb\n",
    "wandb.login(key=keys.wandb)"
   ]
  },
  {
   "cell_type": "code",
   "execution_count": null,
   "id": "f8b633f0",
   "metadata": {},
   "outputs": [
    {
     "name": "stdout",
     "output_type": "stream",
     "text": [
      "Train set size: 14969\n",
      "Validation set size: 1871\n",
      "Test set size: 1871\n",
      "Training ECD-CAT...\n",
      "Is Time embed used ?  True\n"
     ]
    },
    {
     "data": {
      "text/html": [
       "Tracking run with wandb version 0.20.1"
      ],
      "text/plain": [
       "<IPython.core.display.HTML object>"
      ]
     },
     "metadata": {},
     "output_type": "display_data"
    },
    {
     "data": {
      "text/html": [
       "Run data is saved locally in <code>/home/samnub/dev/lircst-diffusion/src/wandb/run-20250630_203052-5a29r40k</code>"
      ],
      "text/plain": [
       "<IPython.core.display.HTML object>"
      ]
     },
     "metadata": {},
     "output_type": "display_data"
    },
    {
     "data": {
      "text/html": [
       "Syncing run <strong><a href='https://wandb.ai/samnub-university-of-surrey/lircst-diffusion/runs/5a29r40k' target=\"_blank\">dry-oath-30</a></strong> to <a href='https://wandb.ai/samnub-university-of-surrey/lircst-diffusion' target=\"_blank\">Weights & Biases</a> (<a href='https://wandb.me/developer-guide' target=\"_blank\">docs</a>)<br>"
      ],
      "text/plain": [
       "<IPython.core.display.HTML object>"
      ]
     },
     "metadata": {},
     "output_type": "display_data"
    },
    {
     "data": {
      "text/html": [
       " View project at <a href='https://wandb.ai/samnub-university-of-surrey/lircst-diffusion' target=\"_blank\">https://wandb.ai/samnub-university-of-surrey/lircst-diffusion</a>"
      ],
      "text/plain": [
       "<IPython.core.display.HTML object>"
      ]
     },
     "metadata": {},
     "output_type": "display_data"
    },
    {
     "data": {
      "text/html": [
       " View run at <a href='https://wandb.ai/samnub-university-of-surrey/lircst-diffusion/runs/5a29r40k' target=\"_blank\">https://wandb.ai/samnub-university-of-surrey/lircst-diffusion/runs/5a29r40k</a>"
      ],
      "text/plain": [
       "<IPython.core.display.HTML object>"
      ]
     },
     "metadata": {},
     "output_type": "display_data"
    },
    {
     "name": "stderr",
     "output_type": "stream",
     "text": [
      "/home/samnub/dev/lircst-diffusion/src/Diffusion/EMA.py:58: UserWarning: EMA has better performance when Apex is installed: https://github.com/NVIDIA/apex#installation.\n",
      "  rank_zero_warn(\n",
      "You are using the plain ModelCheckpoint callback. Consider using LitModelCheckpoint which with seamless uploading to Model registry.\n",
      "GPU available: True (cuda), used: True\n",
      "TPU available: False, using: 0 TPU cores\n",
      "HPU available: False, using: 0 HPUs\n",
      "You are using a CUDA device ('NVIDIA RTX A4000') that has Tensor Cores. To properly utilize them, you should set `torch.set_float32_matmul_precision('medium' | 'high')` which will trade-off precision for performance. For more details, read https://pytorch.org/docs/stable/generated/torch.set_float32_matmul_precision.html#torch.set_float32_matmul_precision\n",
      "LOCAL_RANK: 0 - CUDA_VISIBLE_DEVICES: [0]\n"
     ]
    },
    {
     "name": "stdout",
     "output_type": "stream",
     "text": [
      "Initialized wandb for ECD-CAT with config: {'name': 'ECD-CAT', 'physics': False, 'latent': False, 'predict_mode': 'eps', 'condition_A_T': True, 'timestamp': 1751311852}\n"
     ]
    },
    {
     "name": "stderr",
     "output_type": "stream",
     "text": [
      "\n",
      "  | Name          | Type                        | Params | Mode \n",
      "----------------------------------------------------------------------\n",
      "0 | model         | EncodedConditionalDiffusion | 56.6 M | train\n",
      "1 | physics_model | PhysicsIncorporated         | 0      | train\n",
      "----------------------------------------------------------------------\n",
      "56.6 M    Trainable params\n",
      "0         Non-trainable params\n",
      "56.6 M    Total params\n",
      "226.463   Total estimated model params size (MB)\n",
      "262       Modules in train mode\n",
      "0         Modules in eval mode\n"
     ]
    },
    {
     "name": "stdout",
     "output_type": "stream",
     "text": [
      "Epoch 1:  13%|█▎        | 121/936 [01:01<06:54,  1.97it/s, v_num=0, train_loss=0.031]  "
     ]
    }
   ],
   "source": [
    "# Full pipeline\n",
    "from encoded_conditional_diffusion import ECDiffusion\n",
    "from util import generate_directory_name, get_latest_ckpt, model_args, get_dataset\n",
    "\n",
    "# Setup Diffusion modules\n",
    "import pytorch_lightning as pl\n",
    "from Diffusion.EMA import EMA\n",
    "from pytorch_lightning.callbacks import ModelCheckpoint\n",
    "from lightning.pytorch.loggers import WandbLogger\n",
    "\n",
    "pre_load: bool = True # Load the latest checkpoint if available\n",
    "train_mode: bool = True\n",
    "test_afterward: bool = True\n",
    "\n",
    "dataset_train, dataset_val, dataset_test = get_dataset()\n",
    "\n",
    "def train():\n",
    "    for name, model_arg in model_args.items():\n",
    "        print(f\"Training {name}...\")\n",
    "\n",
    "        model = ECDiffusion(\n",
    "            train_dataset=dataset_train,\n",
    "            valid_dataset=dataset_val,\n",
    "            test_dataset=dataset_test,\n",
    "            **model_arg\n",
    "        )\n",
    "\n",
    "        # TODO: Bugged if pre_load is True\n",
    "        default_root_dir, timestamp = generate_directory_name(name, get_latest_ckpt(name)[1] if pre_load else None)\n",
    "        \n",
    "        wandb_config = {\n",
    "            \"name\": name,\n",
    "            \"physics\": model_arg[\"physics\"],\n",
    "            \"latent\": model_arg[\"latent\"],\n",
    "            \"predict_mode\": model_arg[\"predict_mode\"],\n",
    "            \"condition_A_T\": model_arg[\"condition_A_T\"],\n",
    "            \"timestamp\": timestamp,\n",
    "        }\n",
    "        wandb_project = \"lircst-diffusion\"\n",
    "        with wandb.init(project=wandb_project, config=wandb_config):\n",
    "            print(f\"Initialized wandb for {name} with config: {wandb_config}\")\n",
    "\n",
    "            wandb.define_metric(\"test/psnr_scat\", summary=\"mean\")\n",
    "            wandb.define_metric(\"test/ssim_scat\", summary=\"mean\")\n",
    "            wandb.define_metric(\"test/rmse_scat\", summary=\"mean\")\n",
    "            wandb.define_metric(\"test/psnr_atten\", summary=\"mean\")\n",
    "            wandb.define_metric(\"test/ssim_atten\", summary=\"mean\")\n",
    "            wandb.define_metric(\"test/rmse_atten\", summary=\"mean\")\n",
    "\n",
    "            trainer = pl.Trainer(\n",
    "                max_epochs=200,\n",
    "                max_steps=2e5,\n",
    "                callbacks=[EMA(0.9999)],\n",
    "                accelerator='gpu',\n",
    "                devices=[0],\n",
    "                num_sanity_val_steps=0,  # Disable sanity check on dataloader\n",
    "                limit_val_batches=16, # Limit validation batches for faster training\n",
    "                default_root_dir=default_root_dir,\n",
    "            )\n",
    "            \n",
    "            trainer.fit(model, ckpt_path=get_latest_ckpt(name)[0] if pre_load else None)\n",
    "            \n",
    "            if test_afterward:\n",
    "                trainer.test(model, ckpt_path=get_latest_ckpt(name)[0] if pre_load else None)\n",
    "\n",
    "if train_mode:\n",
    "    train()\n"
   ]
  }
 ],
 "metadata": {
  "kernelspec": {
   "display_name": "lircst-diffusion",
   "language": "python",
   "name": "python3"
  },
  "language_info": {
   "codemirror_mode": {
    "name": "ipython",
    "version": 3
   },
   "file_extension": ".py",
   "mimetype": "text/x-python",
   "name": "python",
   "nbconvert_exporter": "python",
   "pygments_lexer": "ipython3",
   "version": "3.13.2"
  }
 },
 "nbformat": 4,
 "nbformat_minor": 5
}
