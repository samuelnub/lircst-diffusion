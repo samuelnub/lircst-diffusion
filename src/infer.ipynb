{
 "cells": [
  {
   "cell_type": "code",
   "execution_count": null,
   "id": "6eee66de",
   "metadata": {},
   "outputs": [
    {
     "ename": "",
     "evalue": "",
     "output_type": "error",
     "traceback": [
      "\u001b[1;31mThe Kernel crashed while executing code in the current cell or a previous cell. \n",
      "\u001b[1;31mPlease review the code in the cell(s) to identify a possible cause of the failure. \n",
      "\u001b[1;31mClick <a href='https://aka.ms/vscodeJupyterKernelCrash'>here</a> for more info. \n",
      "\u001b[1;31mView Jupyter <a href='command:jupyter.viewOutput'>log</a> for further details."
     ]
    }
   ],
   "source": [
    "# Display some samples from each model\n",
    "import matplotlib.pyplot as plt\n",
    "import numpy as np\n",
    "import torch\n",
    "import torch.nn.functional as F\n",
    "from skimage.metrics import structural_similarity as ssim\n",
    "from skimage.metrics import peak_signal_noise_ratio as psnr\n",
    "from encoded_conditional_diffusion import ECDiffusion\n",
    "from util import get_latest_ckpt, get_dataset, model_args\n",
    "\n",
    "dataset_train, dataset_valid, dataset_test = get_dataset()\n",
    "\n",
    "def show_samples(model: ECDiffusion, dataset_idx: int|None=None, num_samples=1):\n",
    "    phan, sino, phan_id = dataset_test[np.random.randint(0, len(dataset_test)) if dataset_idx is None else dataset_idx]\n",
    "    #sino = torch.from_numpy(sino)\n",
    "\n",
    "    batch_input = (torch.stack(num_samples*[phan]).cuda(), \n",
    "                   torch.stack(num_samples*[sino]).cuda(), \n",
    "                   num_samples*[phan_id])\n",
    "\n",
    "    model.loss_evaluation(\n",
    "        batch=batch_input,\n",
    "        batch_idx=0,\n",
    "        to_print=True,\n",
    "    )\n",
    "\n",
    "random_idx = np.random.randint(0, len(dataset_test))\n",
    "print(f\"Random dataset index: {random_idx}\")\n",
    "\n",
    "for name, model_arg in model_args.items():\n",
    "    print(f\"Showing samples for {name}...\")\n",
    "\n",
    "    model = ECDiffusion.load_from_checkpoint(\n",
    "        get_latest_ckpt(name)[0],\n",
    "        **model_arg,\n",
    "        train_dataset=dataset_train,\n",
    "        valid_dataset=dataset_valid,\n",
    "        test_dataset=dataset_test,\n",
    "    ).cuda()\n",
    "\n",
    "    show_samples(model, dataset_idx=random_idx)"
   ]
  }
 ],
 "metadata": {
  "kernelspec": {
   "display_name": "lircst-diffusion",
   "language": "python",
   "name": "python3"
  },
  "language_info": {
   "codemirror_mode": {
    "name": "ipython",
    "version": 3
   },
   "file_extension": ".py",
   "mimetype": "text/x-python",
   "name": "python",
   "nbconvert_exporter": "python",
   "pygments_lexer": "ipython3",
   "version": "3.13.2"
  }
 },
 "nbformat": 4,
 "nbformat_minor": 5
}
