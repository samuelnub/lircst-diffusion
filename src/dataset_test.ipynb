{
 "cells": [
  {
   "cell_type": "code",
   "execution_count": 2,
   "metadata": {},
   "outputs": [
    {
     "name": "stdout",
     "output_type": "stream",
     "text": [
      "18534\n",
      "(2, 128, 128) (128, 200, 100) 1742413505\n"
     ]
    }
   ],
   "source": [
    "# Test the dataset\n",
    "\n",
    "from lircst_ana_dataset import LircstAnaDataset \n",
    "\n",
    "def test_dataset():\n",
    "    dataset = LircstAnaDataset('/home/samnub/dev/lircst-ana/data/')\n",
    "    print(len(dataset))\n",
    "    phan, sino, phantom_id = dataset[0]\n",
    "    print(phan.shape, sino.shape, phantom_id)\n",
    "\n",
    "test_dataset()"
   ]
  }
 ],
 "metadata": {
  "kernelspec": {
   "display_name": "lircst-diffusion",
   "language": "python",
   "name": "python3"
  },
  "language_info": {
   "codemirror_mode": {
    "name": "ipython",
    "version": 3
   },
   "file_extension": ".py",
   "mimetype": "text/x-python",
   "name": "python",
   "nbconvert_exporter": "python",
   "pygments_lexer": "ipython3",
   "version": "3.13.2"
  }
 },
 "nbformat": 4,
 "nbformat_minor": 2
}
