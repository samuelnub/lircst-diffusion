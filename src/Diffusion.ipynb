{
 "cells": [
  {
   "cell_type": "code",
   "execution_count": 2,
   "metadata": {},
   "outputs": [
    {
     "name": "stdout",
     "output_type": "stream",
     "text": [
      "2075\n",
      "(2, 128, 128) (128, 200, 100) 1742413505\n"
     ]
    }
   ],
   "source": [
    "# Test the dataset\n",
    "\n",
    "from lircst_ana_dataset import LircstAnaDataset \n",
    "\n",
    "def test_dataset():\n",
    "    dataset = LircstAnaDataset('/home/samnub/dev/lircst-ana/data/')\n",
    "    print(len(dataset))\n",
    "    phan, sino, phantom_id = dataset[0]\n",
    "    print(phan.shape, sino.shape, phantom_id)\n",
    "\n",
    "test_dataset()"
   ]
  },
  {
   "cell_type": "code",
   "execution_count": null,
   "metadata": {},
   "outputs": [
    {
     "ename": "",
     "evalue": "",
     "output_type": "error",
     "traceback": [
      "\u001b[1;31mRunning cells with 'lircst-diffusion-controlnet (Python 3.8.5)' requires the ipykernel package.\n",
      "\u001b[1;31mRun the following command to install 'ipykernel' into the Python environment. \n",
      "\u001b[1;31mCommand: 'conda install -n lircst-diffusion-controlnet ipykernel --update-deps --force-reinstall'"
     ]
    }
   ],
   "source": [
    "# Fine-tune ControlNet using pytorch-lightning on our dataset\n",
    "\n",
    "import gc\n",
    "gc.collect()\n",
    "\n",
    "import sys\n",
    "# caution: path[0] is reserved for script path (or '' in REPL)\n",
    "sys.path.insert(1, '/home/samnub/dev/lircst-diffusion/src/ControlNet')\n",
    "\n",
    "from ControlNet.cldm.model import create_model, load_state_dict\n",
    "from ControlNet.cldm.logger import ImageLogger\n",
    "from torch.utils.data import DataLoader\n",
    "from torchvision import transforms\n",
    "import pytorch_lightning as pl\n",
    "\n",
    "from ControlNet.tutorial_dataset import MyDataset\n",
    "from lircst_ana_dataset import LircstAnaDataset\n",
    "\n",
    "# Configs\n",
    "resume_path = '/home/samnub/dev/lircst-diffusion/models/control_sd21_ini.ckpt'\n",
    "batch_size = 4 # TODO up from 4\n",
    "logger_freq = 300\n",
    "learning_rate = 1e-5\n",
    "sd_locked = True\n",
    "only_mid_control = False\n",
    "\n",
    "\n",
    "# First use cpu to load models. Pytorch Lightning will automatically move it to GPUs.\n",
    "model = create_model('/home/samnub/dev/lircst-diffusion/models/cldm_v21.yaml')#.cpu()\n",
    "model.load_state_dict(load_state_dict(resume_path, location='cuda'))\n",
    "model.learning_rate = learning_rate\n",
    "model.sd_locked = sd_locked\n",
    "model.only_mid_control = only_mid_control\n",
    "\n",
    "\n",
    "# Misc\n",
    "transform_phan = transforms.Compose([transforms.ToTensor(),\n",
    "                                     ])\n",
    "transform_sino = transforms.Compose([transforms.ToTensor(),\n",
    "                                     ])\n",
    "# dataset = LircstAnaDataset(data_dir='/home/samnub/dev/lircst-ana/data/')\n",
    "dataset = MyDataset()\n",
    "dataloader = DataLoader(dataset, num_workers=8, batch_size=batch_size, shuffle=True)\n",
    "logger = ImageLogger(batch_frequency=logger_freq)\n",
    "trainer = pl.Trainer(accelerator='gpu', gpus=1, precision=32, callbacks=[logger])\n",
    "\n",
    "\n",
    "# Train!\n",
    "trainer.fit(model, dataloader)"
   ]
  }
 ],
 "metadata": {
  "kernelspec": {
   "display_name": "lircst-diffusion-controlnet",
   "language": "python",
   "name": "python3"
  },
  "language_info": {
   "codemirror_mode": {
    "name": "ipython",
    "version": 3
   },
   "file_extension": ".py",
   "mimetype": "text/x-python",
   "name": "python",
   "nbconvert_exporter": "python",
   "pygments_lexer": "ipython3",
   "version": "3.8.5"
  }
 },
 "nbformat": 4,
 "nbformat_minor": 2
}
