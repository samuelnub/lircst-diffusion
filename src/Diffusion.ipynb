{
 "cells": [
  {
   "cell_type": "code",
   "execution_count": 1,
   "metadata": {},
   "outputs": [],
   "source": [
    "# Custom Torch Dataset for our phantom / sinogram data\n",
    "\n",
    "from torch.utils.data import Dataset\n",
    "import torchvision.transforms as transforms\n",
    "import numpy as np\n",
    "import os\n",
    "\n",
    "class LircstAnaDataset(Dataset):\n",
    "    # Our data for our analytical simulation is laid out as such:\n",
    "    # /data\n",
    "    #   /<phantom-id>\n",
    "    #       /meta.npy (contains metadata about the phantom, applies to all slices\n",
    "    #       /phan-<slice-idx>.npy (contains the slice Ground Truth) (2x128x128)\n",
    "    #       /sino-<slice-idx>.npy (contains the sinogram of the slice) (128x200x100)\n",
    "\n",
    "    def __init__(self, data_dir: str, transform_phan: transforms=None, transform_sino: transforms=None):\n",
    "        self.data_dir: str = data_dir\n",
    "        self.transform_phan: transforms = transform_phan\n",
    "        self.transform_sino: transforms = transform_sino\n",
    "        # Get all the phantom_ids\n",
    "        self.phantom_ids: list[str] = os.listdir(data_dir)\n",
    "        self.phantom_ids.sort()\n",
    "        # Iterate over all phantom_id directories and get all slice indices\n",
    "        self.idxs: list[tuple[str, int]] = []\n",
    "        for phantom_id in self.phantom_ids:\n",
    "            phantom_dir = os.path.join(data_dir, phantom_id)\n",
    "            slice_idxs = [int(f.split('-')[1].split('.')[0]) for f in os.listdir(phantom_dir) if f.startswith('phan-')]\n",
    "            for idx in slice_idxs:\n",
    "                self.idxs.append((phantom_id, idx))\n",
    "        \n",
    "    def __len__(self) -> int:\n",
    "        return len(self.idxs)\n",
    "\n",
    "    def __getitem__(self, idx: int) -> tuple[np.ndarray, np.ndarray, str]:\n",
    "        # Return a tuple of the phantom slice, the sinogram, and the phantom_id (in case we need to look up the metadata)\n",
    "        phantom_id, slice_idx = self.idxs[idx]\n",
    "        phantom_dir = os.path.join(self.data_dir, phantom_id)\n",
    "        phan = np.load(os.path.join(phantom_dir, f'phan-{slice_idx}.npy'))\n",
    "        sino = np.load(os.path.join(phantom_dir, f'sino-{slice_idx}.npy'))\n",
    "\n",
    "        if self.transform_phan:\n",
    "            phan = self.transform_phan(phan)\n",
    "        if self.transform_sino:\n",
    "            sino = self.transform_sino(sino)\n",
    "        \n",
    "        return phan, sino, phantom_id\n"
   ]
  },
  {
   "cell_type": "code",
   "execution_count": 6,
   "metadata": {},
   "outputs": [
    {
     "name": "stdout",
     "output_type": "stream",
     "text": [
      "1559\n",
      "(2, 128, 128) (128, 200, 100) 1742413505\n"
     ]
    }
   ],
   "source": [
    "# Test the dataset\n",
    "\n",
    "def test_dataset():\n",
    "    dataset = LircstAnaDataset('/home/samnub/dev/lircst-ana/data/')\n",
    "    print(len(dataset))\n",
    "    phan, sino, phantom_id = dataset[0]\n",
    "    print(phan.shape, sino.shape, phantom_id)\n",
    "\n",
    "test_dataset()"
   ]
  },
  {
   "cell_type": "code",
   "execution_count": null,
   "metadata": {},
   "outputs": [],
   "source": []
  }
 ],
 "metadata": {
  "kernelspec": {
   "display_name": "lircst-diffusion",
   "language": "python",
   "name": "python3"
  },
  "language_info": {
   "codemirror_mode": {
    "name": "ipython",
    "version": 3
   },
   "file_extension": ".py",
   "mimetype": "text/x-python",
   "name": "python",
   "nbconvert_exporter": "python",
   "pygments_lexer": "ipython3",
   "version": "3.13.2"
  }
 },
 "nbformat": 4,
 "nbformat_minor": 2
}
